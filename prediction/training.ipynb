{
 "cells": [
  {
   "cell_type": "code",
   "execution_count": 1,
   "metadata": {},
   "outputs": [],
   "source": [
    "\n",
    "# Keras imports\n",
    "import tensorflow as tf\n",
    "from tensorflow import keras\n",
    "from tensorflow.keras import layers\n",
    "\n",
    "# Feature imports\n",
    "from features.feature_factory import FeatureFactory\n",
    "from features.features import RiskFeaturesEnum\n",
    "\n",
    "# Other imports\n",
    "from remote_requests import get_date_range, save_predictive_model\n",
    "import numpy as np\n",
    "from collections import deque\n",
    "from typing import Deque\n",
    "import pickle as pkl\n",
    "import os.path\n",
    "\n",
    "LOAD_DATASET = True\n",
    "OVERWRITE_DATASET = True"
   ]
  },
  {
   "cell_type": "code",
   "execution_count": null,
   "metadata": {},
   "outputs": [],
   "source": [
    "# physical_devices = tf.config.experimental.list_physical_devices('GPU')\n",
    "# assert len(physical_devices) > 0, \"Not enough GPU hardware devices available\"\n",
    "# config = tf.config.experimental.set_memory_growth(physical_devices[0], True)"
   ]
  },
  {
   "cell_type": "markdown",
   "metadata": {},
   "source": [
    "### The Model"
   ]
  },
  {
   "cell_type": "markdown",
   "metadata": {},
   "source": [
    "#### Model interface"
   ]
  },
  {
   "cell_type": "markdown",
   "metadata": {},
   "source": [
    "The LSTM model will take as an input for each step a  `N`x`F` matrix containing the `N` last days of `F` features for a particular region, and it shall predict what the risk index for that given region is on the present day.\n",
    "```\n",
    "  x  x--------------x                        x--------------x\n",
    "  |  |..............|             +\\         |              |\n",
    "  |  |..............|      +------|  \\       |   Risk       |\n",
    "  N  |..............|      |          ]      |              |\n",
    "  |  |..............|      +----- |  /       |     Index    |\n",
    "  |  |..............|             +/         |              |\n",
    "  x  x--------------x                        x--------------x\n",
    "     x------F-------x\n",
    "``` "
   ]
  },
  {
   "cell_type": "code",
   "execution_count": 2,
   "metadata": {},
   "outputs": [
    {
     "name": "stdout",
     "output_type": "stream",
     "text": [
      "Model: \"model\"\n",
      "__________________________________________________________________________________________________\n",
      "Layer (type)                    Output Shape         Param #     Connected to                     \n",
      "==================================================================================================\n",
      "input_1 (InputLayer)            [(None, 7, 9)]       0                                            \n",
      "__________________________________________________________________________________________________\n",
      "lstm (LSTM)                     (None, 8)            576         input_1[0][0]                    \n",
      "__________________________________________________________________________________________________\n",
      "input_2 (InputLayer)            [(None, 2)]          0                                            \n",
      "__________________________________________________________________________________________________\n",
      "concatenate (Concatenate)       (None, 10)           0           lstm[0][0]                       \n",
      "                                                                 input_2[0][0]                    \n",
      "__________________________________________________________________________________________________\n",
      "dense (Dense)                   (None, 7)            77          concatenate[0][0]                \n",
      "__________________________________________________________________________________________________\n",
      "dense_1 (Dense)                 (None, 1)            8           dense[0][0]                      \n",
      "==================================================================================================\n",
      "Total params: 661\n",
      "Trainable params: 661\n",
      "Non-trainable params: 0\n",
      "__________________________________________________________________________________________________\n",
      "None\n"
     ]
    },
    {
     "name": "stderr",
     "output_type": "stream",
     "text": [
      "2022-08-24 08:35:45.848822: I tensorflow/core/platform/cpu_feature_guard.cc:143] Your CPU supports instructions that this TensorFlow binary was not compiled to use: SSE4.1 SSE4.2 AVX AVX2 FMA\n",
      "2022-08-24 08:35:45.872026: I tensorflow/core/platform/profile_utils/cpu_utils.cc:102] CPU Frequency: 2899885000 Hz\n",
      "2022-08-24 08:35:45.872604: I tensorflow/compiler/xla/service/service.cc:168] XLA service 0x560bfb88c7f0 initialized for platform Host (this does not guarantee that XLA will be used). Devices:\n",
      "2022-08-24 08:35:45.872632: I tensorflow/compiler/xla/service/service.cc:176]   StreamExecutor device (0): Host, Default Version\n",
      "2022-08-24 08:35:45.873417: I tensorflow/core/common_runtime/process_util.cc:147] Creating new thread pool with default inter op setting: 2. Tune using inter_op_parallelism_threads for best performance.\n"
     ]
    }
   ],
   "source": [
    "LSTM_layers = 8\n",
    "intermediate_input_layers = 1\n",
    "dense_layers = 7\n",
    "N = 7\n",
    "F = 9\n",
    "G = 2\n",
    "\n",
    "lstm_input = layers.Input(shape=(N,F))\n",
    "dense_input = layers.Input(shape=G)\n",
    "\n",
    "lstm = layers.LSTM(LSTM_layers)(lstm_input)\n",
    "\n",
    "concatenated = layers.concatenate([lstm, dense_input])\n",
    "\n",
    "dense = layers.Dense(dense_layers, activation=\"relu\")(concatenated)\n",
    "dense = layers.Dense(1, activation=\"sigmoid\")(dense)\n",
    "final_model = keras.Model([lstm_input, dense_input], dense)\n",
    "\n",
    "print(final_model.summary())"
   ]
  },
  {
   "cell_type": "markdown",
   "metadata": {},
   "source": [
    "### Dataset preparation"
   ]
  },
  {
   "cell_type": "code",
   "execution_count": null,
   "metadata": {},
   "outputs": [],
   "source": [
    "if not LOAD_DATASET:\n",
    "    # Feature factory\n",
    "    feature_factory = FeatureFactory()\n",
    "\n",
    "    # Lat/long for each region, (width x height x 2 matrix)\n",
    "    region_centers, region_bounds = feature_factory.get_geo_features()\n",
    "\n",
    "    # Dates (ISO)\n",
    "    date_range = get_date_range()\n",
    "\n",
    "    # Dataset size\n",
    "    dataset_size = (len(date_range) - N) * feature_factory.get_number_of_regions()\n",
    "\n",
    "    # Risk features\n",
    "    first_input_features = np.zeros(shape=(\n",
    "        dataset_size,\n",
    "        N,\n",
    "        F\n",
    "    ), dtype=float)\n",
    "\n",
    "    # Locations\n",
    "    second_input_features = np.zeros(shape=(\n",
    "        dataset_size,\n",
    "        2\n",
    "    ), dtype=float)\n",
    "\n",
    "    # Outputs\n",
    "    outputs = np.zeros(shape=(dataset_size), dtype=float)\n"
   ]
  },
  {
   "cell_type": "markdown",
   "metadata": {},
   "source": [
    "#### INPUT: Geographical space"
   ]
  },
  {
   "cell_type": "markdown",
   "metadata": {},
   "source": [
    "The entire region shall be encased in a bounding box, split into cells of `w` km x `h` km dimension\n",
    "- latitude = y axis\n",
    "- longitude = x axis\n",
    "```\n",
    "  x NW-------------NE     x  +--------------+\n",
    "  |  |.............|      |  |              |\n",
    "  |  |.............|      |  |              |\n",
    " lat |.............|      h  | Region (X,Y) |\n",
    "  |  |.............|      |  |              |\n",
    "  |  |.............|      |  |              |\n",
    "  x SW-------------SE     x  +--------------+\n",
    "     x-----lon-----x         x-------w------x\n",
    "```"
   ]
  },
  {
   "cell_type": "code",
   "execution_count": null,
   "metadata": {},
   "outputs": [],
   "source": [
    "if not LOAD_DATASET:\n",
    "    print(\"\\t\\t\\tAREA COVERED\")\n",
    "    print(\"=\" * 61)\n",
    "    print(f'Regions are {feature_factory.REGION_WIDTH_KM} km wide x {feature_factory.REGION_HEIGTH_KM} km tall')\n",
    "    print(f'NW = {feature_factory.region_bounding_box.north_west.to_array()} \\tNE = {feature_factory.region_bounding_box.north_east.to_array()}')\n",
    "    print(f'SW = {feature_factory.region_bounding_box.south_west.to_array()} \\tSE = {feature_factory.region_bounding_box.south_east.to_array()}')\n",
    "    print(f'{feature_factory.region_bounding_box.width} km\\twide\\tx {feature_factory.region_bounding_box.height} km \\ttall')\n",
    "    print(f'{feature_factory.region_height_cells} cells \\t\\twide\\tx {feature_factory.region_width_cells} cells\\t\\ttall')"
   ]
  },
  {
   "cell_type": "markdown",
   "metadata": {},
   "source": [
    "Each region shall have the following relevant features, derived from the accidents that occurred on that region for that day, as well as the geographical region information\n",
    "```\n",
    "     0         1         2         3         4         5      |      0         1\n",
    "+---------+---------+---------+---------+---------+---------+ | +---------+---------+\n",
    "|  Total  |  Total  |  Total  |  Total  | Avg.    | Avg.    | | |         |         |\n",
    "|number of|number of|number of|number of|  risk   |  time   | | |   lat   |   lon   |\n",
    "|accidents|deaths   |sers. inj|light inj|   index |   slots | | |         |         |\n",
    "+---------+---------+---------+---------+---------+---------+ | +---------+---------+\n",
    "```\n",
    "Risk index will be a number calculated from the accident information that reflects \"how dangerous\" the region was that day.\n",
    "```\n",
    "             3 * number of deaths + 2 * number of serious injuries + number of light injuries \n",
    "Risk index = --------------------------------------------------------------------------------\n",
    "                                   number of involved vehicles\n",
    "```\n",
    "#### INPUT: Weather data\n",
    "Weather data is constant between the regions, since we only have one measuring point available. It is described separately from the region features as the following feature set:\n",
    "```\n",
    "     0         1         2\n",
    "+---------+---------+---------+\n",
    "|Avg.    |Avg.      |Avg.     |\n",
    "| visib. | precipit | air     |\n",
    "|  prcnt.|  milliim.|  humid. |\n",
    "+---------+---------+---------+\n",
    "```"
   ]
  },
  {
   "cell_type": "code",
   "execution_count": null,
   "metadata": {},
   "outputs": [],
   "source": [
    "\n",
    "if not LOAD_DATASET:\n",
    "    region_queues = np.zeros(shape=(\n",
    "        feature_factory.region_width_cells,\n",
    "        feature_factory.region_height_cells,\n",
    "        len(date_range),\n",
    "        F\n",
    "    ))\n",
    "\n",
    "    # Iterate initial N dates to populate the queues\n",
    "    for index, date in enumerate(date_range[:N]):\n",
    "\n",
    "        #print(f'Processing date {date}', end='\\r')\n",
    "        weather_features = feature_factory.get_weather_features_for_date(date)\n",
    "        risk_features = feature_factory.get_risk_features_for_date(date)\n",
    "\n",
    "        for xi in range(feature_factory.region_width_cells):\n",
    "            for yi in range(feature_factory.region_height_cells):\n",
    "                region_features = risk_features[xi][yi]\n",
    "\n",
    "                for z in range(len(region_features)):\n",
    "                    region_queues[xi][yi][index][z] = region_features[z]\n",
    "\n",
    "                for z in range(len(weather_features)):\n",
    "                    region_queues[xi][yi][index][z +\n",
    "                                                    len(region_features)] = weather_features[z]\n",
    "\n",
    "    # Start from N to compose the data set\n",
    "    global_index = 0\n",
    "    queues_index = N\n",
    "    for date in date_range[N:]:\n",
    "\n",
    "        print(f'Processing date {date}', end='\\r')\n",
    "        weather_features = feature_factory.get_weather_features_for_date(date)\n",
    "        risk_features = feature_factory.get_risk_features_for_date(date)\n",
    "\n",
    "        for xi in range(feature_factory.region_width_cells):\n",
    "            for yi in range(feature_factory.region_height_cells):\n",
    "\n",
    "                region_features = risk_features[xi][yi]\n",
    "                expected_risk_index = region_features[RiskFeaturesEnum.AVG_RISK_LEVEL.value]\n",
    "\n",
    "                first_input_features[global_index][:] = region_queues[xi][yi][-N:]\n",
    "                second_input_features[global_index][:] = region_centers[xi][yi]\n",
    "                outputs[global_index] = expected_risk_index\n",
    "\n",
    "                global_index += 1\n",
    "                for z in range(len(region_features)):\n",
    "                    region_queues[xi][yi][queues_index][z] = region_features[z]\n",
    "\n",
    "                for z in range(len(weather_features)):\n",
    "                    region_queues[xi][yi][queues_index][z +\n",
    "                                                        len(region_features)] = weather_features[z]\n",
    "                \n",
    "        queues_index += 1"
   ]
  },
  {
   "cell_type": "markdown",
   "metadata": {},
   "source": [
    "### Dataset backup"
   ]
  },
  {
   "cell_type": "code",
   "execution_count": 3,
   "metadata": {},
   "outputs": [],
   "source": [
    "INPUTS_1_FILE = \"inputs_1.pkl\"\n",
    "INPUTS_2_FILE = \"inputs_2.pkl\"\n",
    "OUTPUTS_FILE = \"outputs.pkl\"\n",
    "OVERWRITE_DATASET = False"
   ]
  },
  {
   "cell_type": "markdown",
   "metadata": {},
   "source": [
    "#### Save dataset"
   ]
  },
  {
   "cell_type": "code",
   "execution_count": null,
   "metadata": {},
   "outputs": [],
   "source": [
    "if not LOAD_DATASET:\n",
    "    if not os.path.exists(INPUTS_1_FILE) or OVERWRITE_DATASET:\n",
    "        with open(INPUTS_1_FILE, 'wb') as h:\n",
    "            pkl.dump(first_input_features, h)\n",
    "\n",
    "    if not os.path.exists(INPUTS_2_FILE) or OVERWRITE_DATASET:\n",
    "        with open(INPUTS_2_FILE, 'wb') as h:\n",
    "            pkl.dump(second_input_features, h)\n",
    "\n",
    "    if not os.path.exists(OUTPUTS_FILE) or OVERWRITE_DATASET:\n",
    "        with open(OUTPUTS_FILE, 'wb') as h:\n",
    "            pkl.dump(outputs, h)\n"
   ]
  },
  {
   "cell_type": "markdown",
   "metadata": {},
   "source": [
    "#### Load dataset"
   ]
  },
  {
   "cell_type": "code",
   "execution_count": 4,
   "metadata": {},
   "outputs": [],
   "source": [
    "if LOAD_DATASET:\n",
    "    if os.path.exists(INPUTS_1_FILE):\n",
    "        with open(INPUTS_1_FILE, 'rb') as h:\n",
    "            first_input_features = pkl.load(h)\n",
    "\n",
    "    if os.path.exists(INPUTS_2_FILE):\n",
    "        with open(INPUTS_2_FILE, 'rb') as h:\n",
    "            second_input_features = pkl.load(h)\n",
    "\n",
    "    if os.path.exists(OUTPUTS_FILE):\n",
    "        with open(OUTPUTS_FILE, 'rb') as h:\n",
    "            outputs = pkl.load(h)\n"
   ]
  },
  {
   "cell_type": "markdown",
   "metadata": {},
   "source": [
    "### Training"
   ]
  },
  {
   "cell_type": "code",
   "execution_count": null,
   "metadata": {},
   "outputs": [],
   "source": [
    "# Split training / testing data\n",
    "PERCENT_USED_FOR_TRAINING = 0.8\n",
    "\n",
    "training_total = round(PERCENT_USED_FOR_TRAINING * outputs.size)\n",
    "\n",
    "training_x1 = first_input_features[:training_total]\n",
    "training_x2 = second_input_features[:training_total]\n",
    "training_y = outputs[:training_total]\n",
    "\n",
    "testing_x1 = first_input_features[training_total:]\n",
    "testing_x2 = second_input_features[training_total:]\n",
    "testing_y = outputs[training_total:]\n"
   ]
  },
  {
   "cell_type": "code",
   "execution_count": null,
   "metadata": {},
   "outputs": [],
   "source": [
    "# Compile the model\n",
    "\n",
    "final_model.compile(\n",
    "    optimizer=keras.optimizers.SGD(),\n",
    "    loss='mean_absolute_error',\n",
    "    metrics=[\n",
    "        tf.keras.metrics.MeanSquaredError(name=\"Mean Squared Error\"),\n",
    "        tf.keras.metrics.MeanAbsoluteError(name=\"Mean Absolute Error\"),\n",
    "        tf.keras.metrics.LogCoshError(name=\"Log Cosh\"),\n",
    "        tf.keras.metrics.RootMeanSquaredError(name=\"Root Mean Squared Error\")\n",
    "    ]\n",
    ")"
   ]
  },
  {
   "cell_type": "code",
   "execution_count": null,
   "metadata": {},
   "outputs": [],
   "source": [
    "# Train\n",
    "EPOCHS = 5\n",
    "PERCENT_USED_OR_VALIDATION = 0.15\n",
    "BATCH_SIZE = 64\n",
    "\n",
    "fit_history = final_model.fit(\n",
    "    x=[training_x1, training_x2],\n",
    "    y=training_y,\n",
    "    batch_size=BATCH_SIZE,\n",
    "    epochs=EPOCHS,\n",
    "    verbose=1,\n",
    "    callbacks=None,\n",
    "    validation_split=PERCENT_USED_OR_VALIDATION,\n",
    "    validation_data=None,\n",
    "    shuffle='batch',\n",
    "    class_weight=None,\n",
    "    sample_weight=None,\n",
    "    initial_epoch=0,\n",
    "    steps_per_epoch=None,\n",
    "    validation_steps=None,\n",
    "    validation_batch_size=None,\n",
    "    validation_freq=1,\n",
    "    max_queue_size=10,\n",
    "    workers=1,\n",
    "    use_multiprocessing=False,\n",
    ")"
   ]
  },
  {
   "cell_type": "code",
   "execution_count": null,
   "metadata": {},
   "outputs": [],
   "source": [
    "#Test\n",
    "print(final_model.metrics)\n",
    "final_model.evaluate(\n",
    "    x=[testing_x1, testing_x2],\n",
    "    y=testing_y,\n",
    "    batch_size=BATCH_SIZE,\n",
    "    verbose=1,\n",
    "    sample_weight=None,\n",
    "    steps=None,\n",
    "    callbacks=None,\n",
    "    max_queue_size=10,\n",
    "    workers=1,\n",
    "    use_multiprocessing=False,\n",
    "    return_dict=False,\n",
    ")"
   ]
  },
  {
   "cell_type": "markdown",
   "metadata": {},
   "source": [
    "### Persistence"
   ]
  },
  {
   "cell_type": "code",
   "execution_count": 5,
   "metadata": {},
   "outputs": [],
   "source": [
    "import requests\n",
    "from features.feature_factory import FeatureFactory\n",
    "\n",
    "#model_json = final_model.to_json()\n",
    "VERSION_NAME = \"nobers\"\n",
    "FILENAME = VERSION_NAME + '.h5'\n",
    "# final_model.save(FILENAME)\n",
    "\n",
    "fac = FeatureFactory()\n",
    "_, bounds = fac.get_geo_features()\n",
    "\n",
    "# with open(FILENAME, 'rb') as f:\n",
    "#     requests.post(\n",
    "#         url='http://localhost:8080/prediction/model/persist',\n",
    "#         data={\"domain\": bounds},\n",
    "#         files={\"predictiveModel\": f}\n",
    "#     )"
   ]
  },
  {
   "cell_type": "code",
   "execution_count": 6,
   "metadata": {},
   "outputs": [
    {
     "name": "stdout",
     "output_type": "stream",
     "text": [
      "43\n",
      "66\n"
     ]
    }
   ],
   "source": [
    "import json\n",
    "import requests\n",
    "from features.feature_factory import FeatureFactory\n",
    "zz_regions = []\n",
    "feature_factory = FeatureFactory()\n",
    "print (feature_factory.region_width_cells)\n",
    "print (feature_factory.region_height_cells)\n",
    "for x in range(feature_factory.region_width_cells):\n",
    "    for y in range(feature_factory.region_height_cells):\n",
    "        center = feature_factory.get_region_center(x, y)\n",
    "        bounds = {\n",
    "            \"regionId\": \"\",\n",
    "            \"predictor\": \"\",\n",
    "            \"center\": {\n",
    "                \"latitude\": center[0],\n",
    "                \"longitude\": center[1]\n",
    "            },\n",
    "            \"risk\": -1,\n",
    "            \"bounds\": {\n",
    "                \"coordinates\": [\n",
    "                    [center[0] + feature_factory.width_height_lat_diff / 2.0, center[1] + feature_factory.width_height_lat_diff / 2.0],\n",
    "                    [center[0] + feature_factory.width_height_lat_diff / 2.0, center[1] - feature_factory.width_height_lat_diff / 2.0],\n",
    "                    [center[0] - feature_factory.width_height_lat_diff / 2.0, center[1] + feature_factory.width_height_lat_diff / 2.0],\n",
    "                    [center[0] - feature_factory.width_height_lat_diff / 2.0, center[1] - feature_factory.width_height_lat_diff / 2.0]\n",
    "                ],\n",
    "                \"type\": \"Polygon\"\n",
    "            }\n",
    "        }\n",
    "        zz_regions.append(bounds)"
   ]
  },
  {
   "cell_type": "code",
   "execution_count": null,
   "metadata": {},
   "outputs": [],
   "source": [
    "import base64\n",
    "VERSION_NAME = \"nobers\"\n",
    "FILENAME = VERSION_NAME + '.h5'\n",
    "\n",
    "with open(FILENAME, 'rb') as f:\n",
    "    requests.post(\n",
    "        url='http://localhost:8080/prediction/model/persist',\n",
    "        data={\"bounds\": json.dumps(zz_regions)},\n",
    "        files=dict(predictiveModel = f)\n",
    "    )\n"
   ]
  }
 ],
 "metadata": {
  "kernelspec": {
   "display_name": "Python 3.7.12 ('tf-downgrade')",
   "language": "python",
   "name": "python3"
  },
  "language_info": {
   "codemirror_mode": {
    "name": "ipython",
    "version": 3
   },
   "file_extension": ".py",
   "mimetype": "text/x-python",
   "name": "python",
   "nbconvert_exporter": "python",
   "pygments_lexer": "ipython3",
   "version": "3.7.12"
  },
  "orig_nbformat": 4,
  "vscode": {
   "interpreter": {
    "hash": "c317347876957d0732c2360af00ee06efb91188ffda278c05bb97c75a0b68f32"
   }
  }
 },
 "nbformat": 4,
 "nbformat_minor": 2
}
