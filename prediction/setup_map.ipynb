{
 "cells": [
  {
   "cell_type": "markdown",
   "metadata": {},
   "source": [
    "# Map / Region Preparation"
   ]
  },
  {
   "cell_type": "code",
   "execution_count": null,
   "metadata": {},
   "outputs": [],
   "source": [
    "import json\n",
    "import requests\n",
    "from remote_requests import get_bounding_box\n",
    "from features.geostructures import BoundingBox\n",
    "from features.feature_factory import FeatureFactory\n",
    "import matplotlib.pyplot as plt\n",
    "\n",
    "# Make the bounding box\n",
    "whole_region_bbox = BoundingBox.from_points(get_bounding_box())\n",
    "whole_region_bbox.summary()\n",
    "plt.scatter(\n",
    "    [whole_region_bbox.north_east.longitude, whole_region_bbox.north_west.longitude, whole_region_bbox.south_east.longitude, whole_region_bbox.south_west.longitude],\n",
    "    [whole_region_bbox.north_east.latitude, whole_region_bbox.north_west.latitude, whole_region_bbox.south_east.latitude, whole_region_bbox.south_west.latitude]\n",
    ")\n",
    "plt.show()"
   ]
  },
  {
   "cell_type": "code",
   "execution_count": null,
   "metadata": {},
   "outputs": [],
   "source": [
    "# Calculate the south east (base) points\n",
    "DESIRED_REGION_SIZE_KM = 0.5\n",
    "cells_height:float = round(whole_region_bbox.height / DESIRED_REGION_SIZE_KM)\n",
    "cells_width:float = round(whole_region_bbox.width / DESIRED_REGION_SIZE_KM)\n",
    "\n",
    "print(f'Matrix will be {cells_height} cells high and {cells_width} cells wide.')\n",
    "bases_x = [((x / cells_width) * (whole_region_bbox.south_east.longitude - whole_region_bbox.south_west.longitude)) + whole_region_bbox.south_west.longitude\n",
    "              for x in range(cells_width) for y in range(cells_height)]\n",
    "bases_y = [((y / cells_height) * (whole_region_bbox.north_west.latitude - whole_region_bbox.south_west.latitude)) + whole_region_bbox.south_west.latitude\n",
    "              for x in range(cells_width) for y in range(cells_height)]\n",
    "plt.scatter(\n",
    "    bases_x,\n",
    "    bases_y\n",
    ")\n",
    "plt.title(\"South east coordinate of each cell\")\n",
    "plt.show()"
   ]
  },
  {
   "cell_type": "code",
   "execution_count": null,
   "metadata": {},
   "outputs": [],
   "source": [
    "# Calculate the bounds for each cell\n",
    "from features.geostructures import Coordinates\n",
    "\n",
    "\n",
    "difference_in_latitude = bases_y[1] - bases_y[0]\n",
    "difference_in_longitude = bases_x[cells_height + 1] - bases_x[0]\n",
    "print(f'Difference in latitude is {difference_in_latitude:.8f}')\n",
    "print(f'Difference in longitude is {difference_in_longitude:.8f}')\n",
    "cells = [\n",
    "    [ \n",
    "        BoundingBox(\n",
    "            south_west = Coordinates(\n",
    "                latitude=(y * difference_in_latitude) + whole_region_bbox.south_west.latitude,\n",
    "                longitude=(x * difference_in_longitude) + whole_region_bbox.south_west.longitude\n",
    "            ),\n",
    "            north_east = Coordinates(\n",
    "                latitude=((y + 1) * difference_in_latitude) + whole_region_bbox.south_west.latitude,\n",
    "                longitude=((x + 1) * difference_in_longitude) + whole_region_bbox.south_west.longitude\n",
    "            )\n",
    "        ) for y in range(cells_height)\n",
    "    ] for x in range(cells_width)\n",
    "]\n",
    "\n",
    "bounds_x = []\n",
    "bounds_y = []\n",
    "for x in range(cells_width):\n",
    "    for y in range(cells_height):\n",
    "        cell = cells[x][y]\n",
    "        bounds_x.append(cell.north_east.longitude)\n",
    "        bounds_x.append(cell.south_east.longitude)\n",
    "        bounds_x.append(cell.south_west.longitude)\n",
    "        bounds_x.append(cell.north_west.longitude)\n",
    "\n",
    "        bounds_y.append(cell.north_east.latitude)\n",
    "        bounds_y.append(cell.south_east.latitude)\n",
    "        bounds_y.append(cell.south_west.latitude)\n",
    "        bounds_y.append(cell.north_west.latitude)\n",
    "\n",
    "plt.scatter(\n",
    "    bounds_x,\n",
    "    bounds_y\n",
    ")\n",
    "plt.show()"
   ]
  },
  {
   "cell_type": "code",
   "execution_count": null,
   "metadata": {},
   "outputs": [],
   "source": [
    "# Create factory\n",
    "from features.factory import Factory\n",
    "\n",
    "factory = Factory(regions=cells, domain=whole_region_bbox, cell_size = DESIRED_REGION_SIZE_KM)\n",
    "factory.summary()\n",
    "\n",
    "print(f'Checking get_location_cell...', end=' ')\n",
    "for x in range(cells_width):\n",
    "    for y in range(cells_height):\n",
    "        assert factory.get_location_cell(cells[x][y].center) == (x, y)\n",
    "print('OK')"
   ]
  },
  {
   "cell_type": "markdown",
   "metadata": {},
   "source": [
    "# Dataset Preparation"
   ]
  },
  {
   "cell_type": "markdown",
   "metadata": {},
   "source": [
    "## Dataset params"
   ]
  },
  {
   "cell_type": "code",
   "execution_count": null,
   "metadata": {},
   "outputs": [],
   "source": [
    "N = 7                           # Number of days to look back at\n",
    "F = 9                           # Number of LSTM features\n",
    "G = 2                           # Number of Dense features"
   ]
  },
  {
   "cell_type": "markdown",
   "metadata": {},
   "source": [
    "## Dataset"
   ]
  },
  {
   "cell_type": "markdown",
   "metadata": {},
   "source": [
    "### Feature sizes"
   ]
  },
  {
   "cell_type": "code",
   "execution_count": null,
   "metadata": {},
   "outputs": [],
   "source": [
    "from remote_requests import get_date_range\n",
    "import numpy as np\n",
    "\n",
    "date_range = get_date_range()\n",
    "region_centers = factory.get_geographical_features()\n",
    "dataset_size = (len(date_range) - N) * factory.width_cells * factory.height_cells\n",
    "\n",
    "# Risk features\n",
    "first_input_features = np.zeros(shape=(\n",
    "    dataset_size,\n",
    "    N,\n",
    "    F\n",
    "), dtype=float)\n",
    "\n",
    "# Geo features\n",
    "second_input_features = np.zeros(shape=(\n",
    "    dataset_size,\n",
    "    2\n",
    "), dtype=float)\n",
    "\n",
    "# Outputs\n",
    "outputs = np.zeros(shape=(dataset_size), dtype=float)"
   ]
  },
  {
   "cell_type": "markdown",
   "metadata": {},
   "source": [
    "### Feature Population"
   ]
  },
  {
   "cell_type": "code",
   "execution_count": null,
   "metadata": {},
   "outputs": [],
   "source": [
    "from features.features import RiskFeaturesEnum\n",
    "\n",
    "\n",
    "region_queues = np.zeros(shape=(\n",
    "    factory.width_cells,\n",
    "    factory.height_cells,\n",
    "    len(date_range),\n",
    "    F\n",
    "))\n",
    "\n",
    "# Iterate initial N dates to populate the queues\n",
    "for index, date in enumerate(date_range[:N]):\n",
    "\n",
    "    weather_features = factory.get_weather_features(date)\n",
    "    risk_features = factory.get_risk_features(date)\n",
    "\n",
    "    for xi in range(factory.width_cells):\n",
    "        for yi in range(factory.height_cells):\n",
    "            region_features = risk_features[xi][yi]\n",
    "\n",
    "            for z in range(len(region_features)):\n",
    "                region_queues[xi][yi][index][z] = region_features[z]\n",
    "\n",
    "            for z in range(len(weather_features)):\n",
    "                region_queues[xi][yi][index][z + len(region_features)] = weather_features[z]\n",
    "\n",
    "# Start from N to compose the data set\n",
    "global_index = 0\n",
    "queues_index = N\n",
    "for date in date_range[N:]:\n",
    "\n",
    "    print(f'Processing date {date}', end='\\r')\n",
    "    weather_features = factory.get_weather_features(date)\n",
    "    risk_features = factory.get_risk_features(date)\n",
    "\n",
    "    for xi in range(factory.width_cells):\n",
    "        for yi in range(factory.height_cells):\n",
    "\n",
    "            region_features = risk_features[xi][yi]\n",
    "            expected_risk_index = region_features[RiskFeaturesEnum.AVG_RISK_LEVEL.value]\n",
    "\n",
    "            first_input_features[global_index][:] = region_queues[xi][yi][-N:]\n",
    "            second_input_features[global_index][:] = region_centers[xi][yi]\n",
    "            outputs[global_index] = expected_risk_index\n",
    "\n",
    "            global_index += 1\n",
    "            for z in range(len(region_features)):\n",
    "                region_queues[xi][yi][queues_index][z] = region_features[z]\n",
    "\n",
    "            for z in range(len(weather_features)):\n",
    "                region_queues[xi][yi][queues_index][z + len(region_features)] = weather_features[z]\n",
    "            \n",
    "    queues_index += 1"
   ]
  },
  {
   "cell_type": "markdown",
   "metadata": {},
   "source": [
    "### Save Dataset"
   ]
  },
  {
   "cell_type": "code",
   "execution_count": null,
   "metadata": {},
   "outputs": [],
   "source": [
    "import os\n",
    "import pickle as pkl\n",
    "\n",
    "INPUTS_1_FILE = \"inputs_1.pkl\"\n",
    "INPUTS_2_FILE = \"inputs_2.pkl\"\n",
    "OUTPUTS_FILE = \"outputs.pkl\"\n",
    "OVERWRITE_DATASET = False\n",
    "\n",
    "if not os.path.exists(INPUTS_1_FILE):\n",
    "    with open(INPUTS_1_FILE, 'wb') as h:\n",
    "        pkl.dump(first_input_features, h)\n",
    "\n",
    "if not os.path.exists(INPUTS_2_FILE):\n",
    "    with open(INPUTS_2_FILE, 'wb') as h:\n",
    "        pkl.dump(second_input_features, h)\n",
    "\n",
    "if not os.path.exists(OUTPUTS_FILE):\n",
    "    with open(OUTPUTS_FILE, 'wb') as h:\n",
    "        pkl.dump(outputs, h)"
   ]
  },
  {
   "cell_type": "markdown",
   "metadata": {},
   "source": [
    "# Model"
   ]
  },
  {
   "cell_type": "markdown",
   "metadata": {},
   "source": [
    "## Model Params"
   ]
  },
  {
   "cell_type": "code",
   "execution_count": null,
   "metadata": {},
   "outputs": [],
   "source": [
    "LSTM_layers = 8                     # LSTM Layer count\n",
    "intermediate_input_layers = 1       # Intermediate input layer count\n",
    "dense_layers = 7                    # Dense layer count\n",
    "EPOCHS = 5                          # Total epochs\n",
    "PERCENT_USED_OR_VALIDATION = 0.15   # Validation %\n",
    "BATCH_SIZE = 64                     # Batch size"
   ]
  },
  {
   "cell_type": "markdown",
   "metadata": {},
   "source": [
    "## Build Model"
   ]
  },
  {
   "cell_type": "code",
   "execution_count": null,
   "metadata": {},
   "outputs": [],
   "source": [
    "import tensorflow as tf\n",
    "from tensorflow import keras\n",
    "from tensorflow.keras import layers\n",
    "\n",
    "lstm_input = layers.Input(shape=(N,F))\n",
    "dense_input = layers.Input(shape=G)\n",
    "\n",
    "lstm = layers.LSTM(LSTM_layers)(lstm_input)\n",
    "\n",
    "concatenated = layers.concatenate([lstm, dense_input])\n",
    "\n",
    "dense = layers.Dense(dense_layers, activation=\"relu\")(concatenated)\n",
    "dense = layers.Dense(1, activation=\"sigmoid\")(dense)\n",
    "final_model = keras.Model([lstm_input, dense_input], dense)\n",
    "\n",
    "print(final_model.summary())"
   ]
  },
  {
   "cell_type": "markdown",
   "metadata": {},
   "source": [
    "## Split Dataset"
   ]
  },
  {
   "cell_type": "code",
   "execution_count": null,
   "metadata": {},
   "outputs": [],
   "source": [
    "PERCENT_USED_FOR_TRAINING = 0.8\n",
    "\n",
    "training_total = round(PERCENT_USED_FOR_TRAINING * outputs.size)\n",
    "\n",
    "training_x1 = first_input_features[:training_total]\n",
    "training_x2 = second_input_features[:training_total]\n",
    "training_y = outputs[:training_total]\n",
    "\n",
    "testing_x1 = first_input_features[training_total:]\n",
    "testing_x2 = second_input_features[training_total:]\n",
    "testing_y = outputs[training_total:]"
   ]
  },
  {
   "cell_type": "markdown",
   "metadata": {},
   "source": [
    "## Compile and train"
   ]
  },
  {
   "cell_type": "code",
   "execution_count": null,
   "metadata": {},
   "outputs": [],
   "source": [
    "final_model.compile(\n",
    "    optimizer=keras.optimizers.SGD(),\n",
    "    loss='mean_absolute_error',\n",
    "    metrics=[\n",
    "        tf.keras.metrics.MeanSquaredError(name=\"Mean Squared Error\"),\n",
    "        tf.keras.metrics.MeanAbsoluteError(name=\"Mean Absolute Error\"),\n",
    "        tf.keras.metrics.LogCoshError(name=\"Log Cosh\"),\n",
    "        tf.keras.metrics.RootMeanSquaredError(name=\"Root Mean Squared Error\")\n",
    "    ]\n",
    ")\n",
    "\n",
    "fit_history = final_model.fit(\n",
    "    x=[training_x1, training_x2],\n",
    "    y=training_y,\n",
    "    batch_size=BATCH_SIZE,\n",
    "    epochs=EPOCHS,\n",
    "    verbose=1,\n",
    "    callbacks=None,\n",
    "    validation_split=PERCENT_USED_OR_VALIDATION,\n",
    "    validation_data=None,\n",
    "    shuffle='batch',\n",
    "    class_weight=None,\n",
    "    sample_weight=None,\n",
    "    initial_epoch=0,\n",
    "    steps_per_epoch=None,\n",
    "    validation_steps=None,\n",
    "    validation_batch_size=None,\n",
    "    validation_freq=1,\n",
    "    max_queue_size=10,\n",
    "    workers=1,\n",
    "    use_multiprocessing=False,\n",
    ")"
   ]
  },
  {
   "cell_type": "markdown",
   "metadata": {},
   "source": [
    "## Test"
   ]
  },
  {
   "cell_type": "code",
   "execution_count": null,
   "metadata": {},
   "outputs": [],
   "source": [
    "print(final_model.metrics)\n",
    "final_model.evaluate(\n",
    "    x=[testing_x1, testing_x2],\n",
    "    y=testing_y,\n",
    "    batch_size=BATCH_SIZE,\n",
    "    verbose=1,\n",
    "    sample_weight=None,\n",
    "    steps=None,\n",
    "    callbacks=None,\n",
    "    max_queue_size=10,\n",
    "    workers=1,\n",
    "    use_multiprocessing=False,\n",
    "    return_dict=False,\n",
    ")"
   ]
  },
  {
   "cell_type": "markdown",
   "metadata": {},
   "source": [
    "## Model Persistence"
   ]
  },
  {
   "cell_type": "code",
   "execution_count": null,
   "metadata": {},
   "outputs": [],
   "source": [
    "VERSION_NAME = \"nobers\"\n",
    "FILENAME = VERSION_NAME + '.h5'\n",
    "final_model.save(FILENAME)\n",
    "\n",
    "factory = Factory(regions=cells, domain=whole_region_bbox, cell_size = DESIRED_REGION_SIZE_KM)\n",
    "factory.summary()\n",
    "\n",
    "outbound_regions = []\n",
    "for x in range(factory.width_cells):\n",
    "    for y in range(factory.height_cells):\n",
    "        outbound_regions.append(\n",
    "            {\n",
    "                \"regionId\": \"\",\n",
    "                \"predictor\": \"\",\n",
    "                \"center\": {\n",
    "                    \"latitude\": factory.regions[x][y].center.latitude,\n",
    "                    \"longitude\": factory.regions[x][y].center.longitude\n",
    "                },\n",
    "                \"normalizedCenter\": {\n",
    "                    \"latitude\": (factory.regions[x][y].center.latitude - factory.domain.north_east.latitude) \\\n",
    "                        / (factory.domain.south_west.latitude - factory.domain.north_east.latitude),\n",
    "                    \"longitude\": (factory.regions[x][y].center.longitude - factory.domain.north_east.longitude) \\\n",
    "                        / (factory.domain.south_west.longitude - factory.domain.north_east.longitude)\n",
    "                },\n",
    "                \"risk\": -1,\n",
    "                \"bounds\": {\n",
    "                    \"coordinates\": [\n",
    "                        [\n",
    "                            factory.regions[x][y].south_west.latitude,\n",
    "                            factory.regions[x][y].south_west.longitude\n",
    "                        ],\n",
    "                        [\n",
    "                            factory.regions[x][y].south_east.latitude,\n",
    "                            factory.regions[x][y].south_east.longitude\n",
    "                        ],\n",
    "                        [\n",
    "                            factory.regions[x][y].north_east.latitude,\n",
    "                            factory.regions[x][y].north_east.longitude\n",
    "                        ],\n",
    "                        [\n",
    "                            factory.regions[x][y].north_west.latitude,\n",
    "                            factory.regions[x][y].north_west.longitude\n",
    "                        ],\n",
    "                    ],\n",
    "                    \"type\": \"Polygon\"\n",
    "                }\n",
    "            }\n",
    "        )\n",
    "\n",
    "with open(FILENAME, 'rb') as f:\n",
    "    requests.post(\n",
    "        url='http://localhost:8080/prediction/model/persist',\n",
    "        data={\"bounds\": json.dumps(outbound_regions)},\n",
    "        files=dict(predictiveModel = f)\n",
    "    )"
   ]
  }
 ],
 "metadata": {
  "kernelspec": {
   "display_name": "Python 3.7.12 ('tf-downgrade')",
   "language": "python",
   "name": "python3"
  },
  "language_info": {
   "codemirror_mode": {
    "name": "ipython",
    "version": 3
   },
   "file_extension": ".py",
   "mimetype": "text/x-python",
   "name": "python",
   "nbconvert_exporter": "python",
   "pygments_lexer": "ipython3",
   "version": "3.7.12"
  },
  "orig_nbformat": 4,
  "vscode": {
   "interpreter": {
    "hash": "c317347876957d0732c2360af00ee06efb91188ffda278c05bb97c75a0b68f32"
   }
  }
 },
 "nbformat": 4,
 "nbformat_minor": 2
}
