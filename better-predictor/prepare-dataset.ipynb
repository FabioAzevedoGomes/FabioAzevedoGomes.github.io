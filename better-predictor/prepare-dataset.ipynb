{
 "cells": [
  {
   "cell_type": "markdown",
   "metadata": {},
   "source": [
    "## Create the regions"
   ]
  },
  {
   "cell_type": "markdown",
   "metadata": {},
   "source": [
    "### Parameters"
   ]
  },
  {
   "cell_type": "code",
   "execution_count": null,
   "metadata": {},
   "outputs": [],
   "source": [
    "import numpy as np\n",
    "\n",
    "DESIRED_REGION_SIZE_KM: np.float64 = 1.0"
   ]
  },
  {
   "cell_type": "markdown",
   "metadata": {},
   "source": [
    "### Get domain bounding box"
   ]
  },
  {
   "cell_type": "code",
   "execution_count": null,
   "metadata": {},
   "outputs": [],
   "source": [
    "import matplotlib.pyplot as plt\n",
    "from dataset_objects.bbox import BoundingBox\n",
    "from remote.remote import Remote\n",
    "\n",
    "whole_region_bbox: BoundingBox = Remote.get_bounding_box()\n",
    "whole_region_bbox.summary()\n",
    "\n",
    "plt.scatter(\n",
    "    [whole_region_bbox.north_east.longitude, whole_region_bbox.north_west.longitude, whole_region_bbox.south_east.longitude, whole_region_bbox.south_west.longitude],\n",
    "    [whole_region_bbox.north_east.latitude, whole_region_bbox.north_west.latitude, whole_region_bbox.south_east.latitude, whole_region_bbox.south_west.latitude]\n",
    ")\n",
    "plt.show()"
   ]
  },
  {
   "cell_type": "markdown",
   "metadata": {},
   "source": [
    "### Calculate south-west points"
   ]
  },
  {
   "cell_type": "code",
   "execution_count": null,
   "metadata": {},
   "outputs": [],
   "source": [
    "cells_height:int = round(whole_region_bbox.height / DESIRED_REGION_SIZE_KM)\n",
    "cells_width:int = round(whole_region_bbox.width / DESIRED_REGION_SIZE_KM)\n",
    "\n",
    "print(f'Matrix will be {cells_height} cells high and {cells_width} cells wide.')\n",
    "bases_x = [((x / cells_width) * (whole_region_bbox.south_east.longitude - whole_region_bbox.south_west.longitude)) + whole_region_bbox.south_west.longitude\n",
    "              for x in range(cells_width) for y in range(cells_height)]\n",
    "bases_y = [((y / cells_height) * (whole_region_bbox.north_west.latitude - whole_region_bbox.south_west.latitude)) + whole_region_bbox.south_west.latitude\n",
    "              for x in range(cells_width) for y in range(cells_height)]\n",
    "plt.scatter(\n",
    "    bases_x,\n",
    "    bases_y\n",
    ")\n",
    "plt.title(\"South east coordinate of each cell\")\n",
    "plt.show()"
   ]
  },
  {
   "cell_type": "markdown",
   "metadata": {},
   "source": [
    "### Create bounds based on south-west points"
   ]
  },
  {
   "cell_type": "code",
   "execution_count": null,
   "metadata": {},
   "outputs": [],
   "source": [
    "from dataset_objects.coordinates import Coordinates\n",
    "\n",
    "difference_in_latitude = bases_y[1] - bases_y[0]\n",
    "difference_in_longitude = bases_x[cells_height + 1] - bases_x[0]\n",
    "print(f'Difference in latitude is {difference_in_latitude:.8f}')\n",
    "print(f'Difference in longitude is {difference_in_longitude:.8f}')\n",
    "cells = [\n",
    "    [ \n",
    "        BoundingBox(\n",
    "            south_west = Coordinates(\n",
    "                latitude=(y * difference_in_latitude) + whole_region_bbox.south_west.latitude,\n",
    "                longitude=(x * difference_in_longitude) + whole_region_bbox.south_west.longitude\n",
    "            ),\n",
    "            north_east = Coordinates(\n",
    "                latitude=((y + 1) * difference_in_latitude) + whole_region_bbox.south_west.latitude,\n",
    "                longitude=((x + 1) * difference_in_longitude) + whole_region_bbox.south_west.longitude\n",
    "            ),\n",
    "            x = x,\n",
    "            y = y\n",
    "        ) for y in range(cells_height)\n",
    "    ] for x in range(cells_width)\n",
    "]\n",
    "\n",
    "bounds_x = []\n",
    "bounds_y = []\n",
    "for x in range(cells_width):\n",
    "    for y in range(cells_height):\n",
    "        cell = cells[x][y]\n",
    "        bounds_x.append(cell.north_east.longitude)\n",
    "        bounds_x.append(cell.south_east.longitude)\n",
    "        bounds_x.append(cell.south_west.longitude)\n",
    "        bounds_x.append(cell.north_west.longitude)\n",
    "\n",
    "        bounds_y.append(cell.north_east.latitude)\n",
    "        bounds_y.append(cell.south_east.latitude)\n",
    "        bounds_y.append(cell.south_west.latitude)\n",
    "        bounds_y.append(cell.north_west.latitude)\n",
    "\n",
    "plt.scatter(\n",
    "    bounds_x,\n",
    "    bounds_y\n",
    ")\n",
    "plt.show()"
   ]
  },
  {
   "cell_type": "markdown",
   "metadata": {},
   "source": [
    "## Create the dataset shape"
   ]
  },
  {
   "cell_type": "markdown",
   "metadata": {},
   "source": [
    "### Parameters"
   ]
  },
  {
   "cell_type": "code",
   "execution_count": null,
   "metadata": {},
   "outputs": [],
   "source": [
    "F = 5 # Number of features per region [visibility, precipitation, weekday, lat, lon]\n",
    "G = 2 # Number of region geographical features [lat, lon]"
   ]
  },
  {
   "cell_type": "markdown",
   "metadata": {},
   "source": [
    "### Region centers"
   ]
  },
  {
   "cell_type": "code",
   "execution_count": null,
   "metadata": {},
   "outputs": [],
   "source": [
    "import matplotlib.pyplot as plt\n",
    "from features.geographical.latitude import Latitude\n",
    "from features.geographical.longitude import Longitude\n",
    "\n",
    "region_centers = np.zeros(\n",
    "    shape=(\n",
    "        cells_width,\n",
    "        cells_height,\n",
    "        G\n",
    "    ),\n",
    "    dtype=np.float64\n",
    ")\n",
    "\n",
    "normalized_region_centers = np.zeros(\n",
    "    shape=(\n",
    "        cells_width,\n",
    "        cells_height,\n",
    "        G\n",
    "    ),\n",
    "    dtype=np.float64\n",
    ")\n",
    "\n",
    "normalized_x_for_plot = []\n",
    "normalized_y_for_plot = []\n",
    "x_for_plot = []\n",
    "y_for_plot = []\n",
    "for x in range(cells_width):\n",
    "    for y in range(cells_height):\n",
    "        region_centers[x, y, :] = cells[x][y].center.to_array()\n",
    "        normalized_region_centers[x][y][0] = Latitude.create_for(cells[x][y].center, whole_region_bbox).normalize()\n",
    "        normalized_region_centers[x][y][1] = Longitude.create_for(cells[x][y].center, whole_region_bbox).normalize()\n",
    "\n",
    "        normalized_x_for_plot.append(normalized_region_centers[x][y][1])\n",
    "        normalized_y_for_plot.append(normalized_region_centers[x][y][0])\n",
    "        x_for_plot.append(region_centers[x][y][1])\n",
    "        y_for_plot.append(region_centers[x][y][0])\n",
    "\n",
    "plt.scatter(normalized_x_for_plot, normalized_y_for_plot)\n",
    "plt.show()\n",
    "# plt.scatter(x_for_plot, y_for_plot)\n",
    "# plt.show()"
   ]
  },
  {
   "cell_type": "markdown",
   "metadata": {},
   "source": [
    "### Input feature shape"
   ]
  },
  {
   "cell_type": "code",
   "execution_count": null,
   "metadata": {},
   "outputs": [],
   "source": [
    "date_range = Remote.get_date_range()\n",
    "dataset_size = len(date_range) * cells_width * cells_height\n",
    "\n",
    "input_features = np.zeros(\n",
    "    shape=(\n",
    "        dataset_size,\n",
    "        F\n",
    "    ),\n",
    "    dtype=np.float64\n",
    ")"
   ]
  },
  {
   "cell_type": "markdown",
   "metadata": {},
   "source": [
    "### Output shape"
   ]
  },
  {
   "cell_type": "code",
   "execution_count": null,
   "metadata": {},
   "outputs": [],
   "source": [
    "from remote.remote import Remote\n",
    "import numpy as np\n",
    "\n",
    "date_range = Remote.get_date_range()\n",
    "dataset_size = len(date_range) * cells_width * cells_height\n",
    "\n",
    "outputs = np.zeros(\n",
    "    shape=(dataset_size),\n",
    "    dtype=np.float64\n",
    ")"
   ]
  },
  {
   "cell_type": "markdown",
   "metadata": {},
   "source": [
    "## Create the dataset"
   ]
  },
  {
   "cell_type": "markdown",
   "metadata": {},
   "source": [
    "### Populate dataset"
   ]
  },
  {
   "cell_type": "code",
   "execution_count": null,
   "metadata": {},
   "outputs": [],
   "source": [
    "from features.factory import Factory\n",
    "\n",
    "global_index = 0\n",
    "for date in date_range:\n",
    "\n",
    "    print(f'Processing date {date}', end='\\r')\n",
    "    feature_matrix, output_matrix = Factory.get_risk_features(\n",
    "        date,\n",
    "        cells,\n",
    "        whole_region_bbox,\n",
    "        cells_width,\n",
    "        cells_height,\n",
    "        F,\n",
    "        DESIRED_REGION_SIZE_KM\n",
    "    )\n",
    "    for xi in range(cells_width):\n",
    "        for yi in range(cells_height):\n",
    "\n",
    "            region_features = feature_matrix[xi][yi]\n",
    "\n",
    "            input_features[global_index][:] = region_features\n",
    "            outputs[global_index] = output_matrix[xi][yi]\n",
    "\n",
    "            global_index += 1\n"
   ]
  },
  {
   "cell_type": "markdown",
   "metadata": {},
   "source": [
    "## Save the dataset"
   ]
  },
  {
   "cell_type": "code",
   "execution_count": null,
   "metadata": {},
   "outputs": [],
   "source": [
    "import os\n",
    "import pickle as pkl\n",
    "\n",
    "FOLDER = \"data/\"\n",
    "INPUTS_FILE = FOLDER + \"inputs.pkl\"\n",
    "OUTPUTS_FILE = FOLDER + \"outputs.pkl\"\n",
    "CENTERS_FILE = FOLDER + \"centers.pkl\"\n",
    "REGIONS_FILE = FOLDER + \"regions.pkl\"\n",
    "N_CENTERS_FILE = FOLDER + \"normal_centers.pkl\"\n",
    "SHAPE_FILE = FOLDER + \"shape.pkl\"\n",
    "\n",
    "\n",
    "# Model in/out\n",
    "if not os.path.exists(INPUTS_FILE):\n",
    "    with open(INPUTS_FILE, 'wb') as h:\n",
    "        pkl.dump(input_features, h)\n",
    "\n",
    "if not os.path.exists(OUTPUTS_FILE):\n",
    "    with open(OUTPUTS_FILE, 'wb') as h:\n",
    "        pkl.dump(outputs, h)\n",
    "\n",
    "# Region persistence\n",
    "if not os.path.exists(CENTERS_FILE):\n",
    "    with open(CENTERS_FILE, 'wb') as h:\n",
    "        pkl.dump(region_centers, h)\n",
    "\n",
    "if not os.path.exists(N_CENTERS_FILE):\n",
    "    with open(N_CENTERS_FILE, 'wb') as h:\n",
    "        pkl.dump(normalized_region_centers, h)\n",
    "\n",
    "if not os.path.exists(REGIONS_FILE):\n",
    "    with open(REGIONS_FILE, 'wb') as h:\n",
    "        pkl.dump(cells, h)\n",
    "\n",
    "\n",
    "if not os.path.exists(SHAPE_FILE):\n",
    "    with open(SHAPE_FILE, 'wb') as h:\n",
    "        pkl.dump([cells_width, cells_height, G, F, dataset_size], h)"
   ]
  }
 ],
 "metadata": {
  "kernelspec": {
   "display_name": "Python 3.7.12 ('tf-downgrade')",
   "language": "python",
   "name": "python3"
  },
  "language_info": {
   "codemirror_mode": {
    "name": "ipython",
    "version": 3
   },
   "file_extension": ".py",
   "mimetype": "text/x-python",
   "name": "python",
   "nbconvert_exporter": "python",
   "pygments_lexer": "ipython3",
   "version": "3.7.12"
  },
  "orig_nbformat": 4,
  "vscode": {
   "interpreter": {
    "hash": "c317347876957d0732c2360af00ee06efb91188ffda278c05bb97c75a0b68f32"
   }
  }
 },
 "nbformat": 4,
 "nbformat_minor": 2
}
