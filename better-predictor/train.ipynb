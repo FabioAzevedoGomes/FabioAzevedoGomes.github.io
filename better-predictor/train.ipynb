{
 "cells": [
  {
   "cell_type": "markdown",
   "metadata": {},
   "source": [
    "### Load dataset"
   ]
  },
  {
   "cell_type": "code",
   "execution_count": 1,
   "metadata": {},
   "outputs": [],
   "source": [
    "import numpy as np\n",
    "import pickle as pkl\n",
    "from typing import List\n",
    "from dataset_objects.bbox import BoundingBox\n",
    "import os\n",
    "\n",
    "SHAPE_FILE = \"data/shape.pkl\"\n",
    "if os.path.exists(SHAPE_FILE):\n",
    "    with open(SHAPE_FILE, 'rb') as h:\n",
    "        shape_array = pkl.load(h)\n",
    "\n",
    "[cells_width, cells_height, G, F, dataset_size] = shape_array\n",
    "\n",
    "region_centers = np.zeros(\n",
    "    shape=(\n",
    "        cells_width,\n",
    "        cells_height,\n",
    "        G\n",
    "    ),\n",
    "    dtype=np.float64\n",
    ")\n",
    "\n",
    "normalized_region_centers = np.zeros(\n",
    "    shape=(\n",
    "        cells_width,\n",
    "        cells_height,\n",
    "        G\n",
    "    ),\n",
    "    dtype=np.float64\n",
    ")\n",
    "\n",
    "input_features = np.zeros(\n",
    "    shape=(\n",
    "        dataset_size,\n",
    "        F\n",
    "    ),\n",
    "    dtype=np.float64\n",
    ")\n",
    "\n",
    "outputs = np.zeros(\n",
    "    shape=(dataset_size),\n",
    "    dtype=np.float64\n",
    ")\n",
    "\n",
    "cells:List[List[BoundingBox]]"
   ]
  },
  {
   "cell_type": "code",
   "execution_count": 2,
   "metadata": {},
   "outputs": [],
   "source": [
    "import os\n",
    "import pickle as pkl\n",
    "\n",
    "FOLDER = \"data/\"\n",
    "INPUTS_FILE = FOLDER + \"inputs.pkl\"\n",
    "OUTPUTS_FILE = FOLDER + \"outputs.pkl\"\n",
    "CENTERS_FILE = FOLDER + \"centers.pkl\"\n",
    "N_CENTERS_FILE = FOLDER + \"normal_centers.pkl\"\n",
    "REGIONS_FILE = FOLDER + \"regions.pkl\"\n",
    "\n",
    "# Model in/out\n",
    "if os.path.exists(INPUTS_FILE):\n",
    "    with open(INPUTS_FILE, 'rb') as h:\n",
    "        input_features = pkl.load(h)\n",
    "\n",
    "if os.path.exists(OUTPUTS_FILE):\n",
    "    with open(OUTPUTS_FILE, 'rb') as h:\n",
    "        outputs = pkl.load(h)\n",
    "\n",
    "# Regions\n",
    "if os.path.exists(CENTERS_FILE):\n",
    "    with open(CENTERS_FILE, 'rb') as h:\n",
    "        region_centers = pkl.load(h)\n",
    "\n",
    "if os.path.exists(N_CENTERS_FILE):\n",
    "    with open(N_CENTERS_FILE, 'rb') as h:\n",
    "        normalized_region_centers = pkl.load(h)\n",
    "\n",
    "if os.path.exists(REGIONS_FILE):\n",
    "    with open(REGIONS_FILE, 'rb') as h:\n",
    "        cells = pkl.load(h)"
   ]
  },
  {
   "cell_type": "code",
   "execution_count": 3,
   "metadata": {},
   "outputs": [],
   "source": [
    "PERCENT_USED_FOR_TRAINING = 0.8\n",
    "\n",
    "training_total = round(PERCENT_USED_FOR_TRAINING * dataset_size)\n",
    "\n",
    "training_x = input_features[:training_total]\n",
    "training_y = outputs[:training_total]\n",
    "\n",
    "testing_x = input_features[training_total:]\n",
    "testing_y = outputs[training_total:]"
   ]
  },
  {
   "cell_type": "markdown",
   "metadata": {},
   "source": [
    "### Model parameters"
   ]
  },
  {
   "cell_type": "code",
   "execution_count": 4,
   "metadata": {},
   "outputs": [],
   "source": [
    "LAYER_COUNT = 10                   # Dense layer count\n",
    "NEURONS_PER_LAYER = 32             # Number of neurons per dense layer\n",
    "EPOCHS = 10                        # Total epochs\n",
    "PERCENT_USED_FOR_VALIDATION = 0.15 # Validation %\n",
    "BATCH_SIZE = 16                    # Batch size"
   ]
  },
  {
   "cell_type": "markdown",
   "metadata": {},
   "source": [
    "### Model building"
   ]
  },
  {
   "cell_type": "code",
   "execution_count": 5,
   "metadata": {},
   "outputs": [
    {
     "name": "stdout",
     "output_type": "stream",
     "text": [
      "Model: \"model\"\n",
      "_________________________________________________________________\n",
      "Layer (type)                 Output Shape              Param #   \n",
      "=================================================================\n",
      "input_1 (InputLayer)         [(None, 5)]               0         \n",
      "_________________________________________________________________\n",
      "dense (Dense)                (None, 32)                192       \n",
      "_________________________________________________________________\n",
      "dense_1 (Dense)              (None, 32)                1056      \n",
      "_________________________________________________________________\n",
      "dense_2 (Dense)              (None, 32)                1056      \n",
      "_________________________________________________________________\n",
      "dense_3 (Dense)              (None, 32)                1056      \n",
      "_________________________________________________________________\n",
      "dense_4 (Dense)              (None, 32)                1056      \n",
      "_________________________________________________________________\n",
      "dense_5 (Dense)              (None, 32)                1056      \n",
      "_________________________________________________________________\n",
      "dense_6 (Dense)              (None, 32)                1056      \n",
      "_________________________________________________________________\n",
      "dense_7 (Dense)              (None, 32)                1056      \n",
      "_________________________________________________________________\n",
      "dense_8 (Dense)              (None, 32)                1056      \n",
      "_________________________________________________________________\n",
      "dense_9 (Dense)              (None, 32)                1056      \n",
      "_________________________________________________________________\n",
      "dense_10 (Dense)             (None, 1)                 33        \n",
      "=================================================================\n",
      "Total params: 9,729\n",
      "Trainable params: 9,729\n",
      "Non-trainable params: 0\n",
      "_________________________________________________________________\n",
      "None\n"
     ]
    },
    {
     "name": "stderr",
     "output_type": "stream",
     "text": [
      "2022-09-03 17:00:50.767770: I tensorflow/core/platform/cpu_feature_guard.cc:143] Your CPU supports instructions that this TensorFlow binary was not compiled to use: SSE4.1 SSE4.2 AVX AVX2 FMA\n",
      "2022-09-03 17:00:50.791445: I tensorflow/core/platform/profile_utils/cpu_utils.cc:102] CPU Frequency: 2899885000 Hz\n",
      "2022-09-03 17:00:50.791884: I tensorflow/compiler/xla/service/service.cc:168] XLA service 0x5654582737d0 initialized for platform Host (this does not guarantee that XLA will be used). Devices:\n",
      "2022-09-03 17:00:50.791897: I tensorflow/compiler/xla/service/service.cc:176]   StreamExecutor device (0): Host, Default Version\n",
      "2022-09-03 17:00:50.791958: I tensorflow/core/common_runtime/process_util.cc:147] Creating new thread pool with default inter op setting: 2. Tune using inter_op_parallelism_threads for best performance.\n"
     ]
    }
   ],
   "source": [
    "import tensorflow as tf\n",
    "from tensorflow import keras\n",
    "from tensorflow.keras import layers\n",
    "\n",
    "network_input = layers.Input(shape=np.shape(input_features[0]))\n",
    "dense = layers.Dense(NEURONS_PER_LAYER, activation=\"relu\")(network_input)\n",
    "for i in range(LAYER_COUNT - 1):\n",
    "    dense = layers.Dense(NEURONS_PER_LAYER, activation=\"relu\")(dense)\n",
    "final_dense = layers.Dense(1, activation=\"sigmoid\")(dense)\n",
    "final_model = keras.Model(network_input, final_dense)\n",
    "\n",
    "print(final_model.summary())"
   ]
  },
  {
   "cell_type": "markdown",
   "metadata": {},
   "source": [
    "### Train"
   ]
  },
  {
   "cell_type": "code",
   "execution_count": 6,
   "metadata": {},
   "outputs": [
    {
     "name": "stdout",
     "output_type": "stream",
     "text": [
      "Epoch 1/10\n",
      " 6225/62173 [==>...........................] - ETA: 5:50 - loss: 0.1666 - Mean Squared Error: 0.0385 - Mean Absolute Error: 0.0798 - Log Cosh: 0.0171 - Root Mean Squared Error: 0.1962"
     ]
    }
   ],
   "source": [
    "final_model.compile(\n",
    "    optimizer=keras.optimizers.SGD(),\n",
    "    loss='binary_crossentropy',\n",
    "    metrics=[\n",
    "        tf.keras.metrics.MeanSquaredError(name=\"Mean Squared Error\"),\n",
    "        tf.keras.metrics.MeanAbsoluteError(name=\"Mean Absolute Error\"),\n",
    "        tf.keras.metrics.LogCoshError(name=\"Log Cosh\"),\n",
    "        tf.keras.metrics.RootMeanSquaredError(name=\"Root Mean Squared Error\")\n",
    "    ]\n",
    ")\n",
    "\n",
    "fit_history = final_model.fit(\n",
    "    x=training_x,\n",
    "    y=training_y,\n",
    "    batch_size=BATCH_SIZE,\n",
    "    epochs=EPOCHS,\n",
    "    verbose=1,\n",
    "    callbacks=None,\n",
    "    validation_split=PERCENT_USED_FOR_VALIDATION,\n",
    "    validation_data=None,\n",
    "    shuffle='batch',\n",
    "    class_weight=None,\n",
    "    sample_weight=None,\n",
    "    initial_epoch=0,\n",
    "    steps_per_epoch=None,\n",
    "    validation_steps=None,\n",
    "    validation_batch_size=None,\n",
    "    validation_freq=1,\n",
    "    max_queue_size=10,\n",
    "    workers=1,\n",
    "    use_multiprocessing=False,\n",
    ")"
   ]
  },
  {
   "cell_type": "markdown",
   "metadata": {},
   "source": [
    "### Test"
   ]
  },
  {
   "cell_type": "code",
   "execution_count": null,
   "metadata": {},
   "outputs": [],
   "source": [
    "print(final_model.metrics)\n",
    "final_model.evaluate(\n",
    "    x=testing_x,\n",
    "    y=testing_y,\n",
    "    batch_size=BATCH_SIZE,\n",
    "    verbose=1,\n",
    "    sample_weight=None,\n",
    "    steps=None,\n",
    "    callbacks=None,\n",
    "    max_queue_size=10,\n",
    "    workers=1,\n",
    "    use_multiprocessing=False,\n",
    "    return_dict=False,\n",
    ")"
   ]
  },
  {
   "cell_type": "code",
   "execution_count": null,
   "metadata": {},
   "outputs": [],
   "source": [
    "VERSION_NAME = \"bce_10_10_32_sgd\"\n",
    "FILENAME = VERSION_NAME + '.h5'\n",
    "final_model.save(FILENAME)"
   ]
  },
  {
   "cell_type": "code",
   "execution_count": null,
   "metadata": {},
   "outputs": [],
   "source": [
    "outbound_regions = []\n",
    "for x in range(cells_width):\n",
    "    for y in range(cells_height):\n",
    "        outbound_regions.append(\n",
    "            {\n",
    "                \"regionId\": \"\",\n",
    "                \"predictor\": \"\",\n",
    "                \"center\": {\n",
    "                    \"latitude\": region_centers[x][y][0],\n",
    "                    \"longitude\": region_centers[x][y][1]\n",
    "                },\n",
    "                \"normalizedCenter\": {\n",
    "                    \"latitude\": normalized_region_centers[x][y][0],\n",
    "                    \"longitude\": normalized_region_centers[x][y][1]\n",
    "                },\n",
    "                \"risk\": -1,\n",
    "                \"bounds\": {\n",
    "                    \"coordinates\": [\n",
    "                        [\n",
    "                            cells[x][y].south_west.latitude,\n",
    "                            cells[x][y].south_west.longitude\n",
    "                        ],\n",
    "                        [\n",
    "                            cells[x][y].south_east.latitude,\n",
    "                            cells[x][y].south_east.longitude\n",
    "                        ],\n",
    "                        [\n",
    "                            cells[x][y].north_east.latitude,\n",
    "                            cells[x][y].north_east.longitude\n",
    "                        ],\n",
    "                        [\n",
    "                            cells[x][y].north_west.latitude,\n",
    "                            cells[x][y].north_west.longitude\n",
    "                        ],\n",
    "                    ],\n",
    "                    \"type\": \"Polygon\"\n",
    "                }\n",
    "            }\n",
    "        )"
   ]
  },
  {
   "cell_type": "code",
   "execution_count": null,
   "metadata": {},
   "outputs": [],
   "source": [
    "import requests\n",
    "import json\n",
    "with open(FILENAME, 'rb') as f:\n",
    "    requests.post(\n",
    "        url='http://localhost:8080/prediction/model/persist',\n",
    "        data={\"bounds\": json.dumps(outbound_regions)},\n",
    "        files=dict(predictiveModel = f)\n",
    "    )"
   ]
  }
 ],
 "metadata": {
  "kernelspec": {
   "display_name": "Python 3.7.12 ('tf-downgrade')",
   "language": "python",
   "name": "python3"
  },
  "language_info": {
   "codemirror_mode": {
    "name": "ipython",
    "version": 3
   },
   "file_extension": ".py",
   "mimetype": "text/x-python",
   "name": "python",
   "nbconvert_exporter": "python",
   "pygments_lexer": "ipython3",
   "version": "3.7.12"
  },
  "orig_nbformat": 4,
  "vscode": {
   "interpreter": {
    "hash": "c317347876957d0732c2360af00ee06efb91188ffda278c05bb97c75a0b68f32"
   }
  }
 },
 "nbformat": 4,
 "nbformat_minor": 2
}
