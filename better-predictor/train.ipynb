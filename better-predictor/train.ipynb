{
 "cells": [
  {
   "cell_type": "markdown",
   "metadata": {},
   "source": [
    "### Load dataset"
   ]
  },
  {
   "cell_type": "code",
   "execution_count": null,
   "metadata": {},
   "outputs": [],
   "source": [
    "import numpy as np\n",
    "import pickle as pkl\n",
    "from typing import List\n",
    "from dataset_objects.bbox import BoundingBox\n",
    "import os\n",
    "\n",
    "SHAPE_FILE = \"data/shape.pkl\"\n",
    "if os.path.exists(SHAPE_FILE):\n",
    "    with open(SHAPE_FILE, 'rb') as h:\n",
    "        shape_array = pkl.load(h)\n",
    "\n",
    "[cells_width, cells_height, G, N, F, dataset_size] = shape_array\n",
    "\n",
    "region_centers = np.zeros(\n",
    "    shape=(\n",
    "        cells_width,\n",
    "        cells_height,\n",
    "        G\n",
    "    ),\n",
    "    dtype=np.float64\n",
    ")\n",
    "\n",
    "normalized_region_centers = np.zeros(\n",
    "    shape=(\n",
    "        cells_width,\n",
    "        cells_height,\n",
    "        G\n",
    "    ),\n",
    "    dtype=np.float64\n",
    ")\n",
    "\n",
    "first_input_features = np.zeros(\n",
    "    shape=(\n",
    "        dataset_size,\n",
    "        N,\n",
    "        F\n",
    "    ),\n",
    "    dtype=np.float64\n",
    ")\n",
    "\n",
    "second_input_features = np.zeros(\n",
    "    shape=(\n",
    "        dataset_size,\n",
    "        2\n",
    "    ),\n",
    "    dtype=np.float64\n",
    ")\n",
    "\n",
    "outputs = np.zeros(\n",
    "    shape=(dataset_size),\n",
    "    dtype=np.float64\n",
    ")\n",
    "\n",
    "cells:List[List[BoundingBox]]"
   ]
  },
  {
   "cell_type": "code",
   "execution_count": null,
   "metadata": {},
   "outputs": [],
   "source": [
    "import os\n",
    "import pickle as pkl\n",
    "\n",
    "FOLDER = \"data/\"\n",
    "INPUTS_1_FILE = FOLDER + \"inputs_1.pkl\"\n",
    "INPUTS_2_FILE = FOLDER + \"inputs_2.pkl\"\n",
    "OUTPUTS_FILE = FOLDER + \"outputs.pkl\"\n",
    "CENTERS_FILE = FOLDER + \"centers.pkl\"\n",
    "N_CENTERS_FILE = FOLDER + \"normal_centers.pkl\"\n",
    "REGIONS_FILE = FOLDER + \"regions.pkl\"\n",
    "\n",
    "if os.path.exists(INPUTS_1_FILE):\n",
    "    with open(INPUTS_1_FILE, 'rb') as h:\n",
    "        first_input_features = pkl.load(h)\n",
    "\n",
    "if os.path.exists(INPUTS_2_FILE):\n",
    "    with open(INPUTS_2_FILE, 'rb') as h:\n",
    "        second_input_features = pkl.load(h)\n",
    "\n",
    "if os.path.exists(OUTPUTS_FILE):\n",
    "    with open(OUTPUTS_FILE, 'rb') as h:\n",
    "        outputs = pkl.load(h)\n",
    "\n",
    "if os.path.exists(CENTERS_FILE):\n",
    "    with open(CENTERS_FILE, 'rb') as h:\n",
    "        region_centers = pkl.load(h)\n",
    "\n",
    "if os.path.exists(N_CENTERS_FILE):\n",
    "    with open(N_CENTERS_FILE, 'rb') as h:\n",
    "        normalized_region_centers = pkl.load(h)\n",
    "\n",
    "if os.path.exists(REGIONS_FILE):\n",
    "    with open(REGIONS_FILE, 'rb') as h:\n",
    "        cells = pkl.load(h)"
   ]
  },
  {
   "cell_type": "code",
   "execution_count": null,
   "metadata": {},
   "outputs": [],
   "source": [
    "PERCENT_USED_FOR_TRAINING = 0.8\n",
    "\n",
    "training_total = round(PERCENT_USED_FOR_TRAINING * outputs.size)\n",
    "\n",
    "training_x1 = first_input_features[:training_total]\n",
    "training_x2 = second_input_features[:training_total]\n",
    "training_y = outputs[:training_total]\n",
    "\n",
    "testing_x1 = first_input_features[training_total:]\n",
    "testing_x2 = second_input_features[training_total:]\n",
    "testing_y = outputs[training_total:]"
   ]
  },
  {
   "cell_type": "markdown",
   "metadata": {},
   "source": [
    "### Model parameters"
   ]
  },
  {
   "cell_type": "code",
   "execution_count": null,
   "metadata": {},
   "outputs": [],
   "source": [
    "LSTM_layers = 4                     # LSTM Layer count\n",
    "dense_layers = 3                    # Dense layer count\n",
    "EPOCHS = 5                          # Total epochs\n",
    "PERCENT_USED_OR_VALIDATION = 0.15   # Validation %\n",
    "BATCH_SIZE = 64                     # Batch size"
   ]
  },
  {
   "cell_type": "markdown",
   "metadata": {},
   "source": [
    "### Model building"
   ]
  },
  {
   "cell_type": "code",
   "execution_count": null,
   "metadata": {},
   "outputs": [],
   "source": [
    "import tensorflow as tf\n",
    "from tensorflow import keras\n",
    "from tensorflow.keras import layers\n",
    "\n",
    "lstm_input = layers.Input(shape=np.shape(first_input_features[0]))\n",
    "dense_input = layers.Input(shape=np.shape(second_input_features[0]))\n",
    "lstm = layers.LSTM(LSTM_layers)(lstm_input)\n",
    "concatenated = layers.concatenate([lstm, dense_input])\n",
    "dense = layers.Dense(dense_layers, activation=\"relu\")(concatenated)\n",
    "dense = layers.Dense(1, activation=\"sigmoid\")(dense)\n",
    "final_model = keras.Model([lstm_input, dense_input], dense)\n",
    "\n",
    "print(final_model.summary())"
   ]
  },
  {
   "cell_type": "markdown",
   "metadata": {},
   "source": [
    "### Train"
   ]
  },
  {
   "cell_type": "code",
   "execution_count": null,
   "metadata": {},
   "outputs": [],
   "source": [
    "final_model.compile(\n",
    "    optimizer=keras.optimizers.SGD(),\n",
    "    loss='mean_absolute_error',\n",
    "    metrics=[\n",
    "        tf.keras.metrics.MeanSquaredError(name=\"Mean Squared Error\"),\n",
    "        tf.keras.metrics.MeanAbsoluteError(name=\"Mean Absolute Error\"),\n",
    "        tf.keras.metrics.LogCoshError(name=\"Log Cosh\"),\n",
    "        tf.keras.metrics.RootMeanSquaredError(name=\"Root Mean Squared Error\")\n",
    "    ]\n",
    ")\n",
    "\n",
    "fit_history = final_model.fit(\n",
    "    x=[training_x1, training_x2],\n",
    "    y=training_y,\n",
    "    batch_size=BATCH_SIZE,\n",
    "    epochs=EPOCHS,\n",
    "    verbose=1,\n",
    "    callbacks=None,\n",
    "    validation_split=PERCENT_USED_OR_VALIDATION,\n",
    "    validation_data=None,\n",
    "    shuffle='batch',\n",
    "    class_weight=None,\n",
    "    sample_weight=None,\n",
    "    initial_epoch=0,\n",
    "    steps_per_epoch=None,\n",
    "    validation_steps=None,\n",
    "    validation_batch_size=None,\n",
    "    validation_freq=1,\n",
    "    max_queue_size=10,\n",
    "    workers=1,\n",
    "    use_multiprocessing=False,\n",
    ")"
   ]
  },
  {
   "cell_type": "markdown",
   "metadata": {},
   "source": [
    "### Test"
   ]
  },
  {
   "cell_type": "code",
   "execution_count": null,
   "metadata": {},
   "outputs": [],
   "source": [
    "print(final_model.metrics)\n",
    "final_model.evaluate(\n",
    "    x=[testing_x1, testing_x2],\n",
    "    y=testing_y,\n",
    "    batch_size=BATCH_SIZE,\n",
    "    verbose=1,\n",
    "    sample_weight=None,\n",
    "    steps=None,\n",
    "    callbacks=None,\n",
    "    max_queue_size=10,\n",
    "    workers=1,\n",
    "    use_multiprocessing=False,\n",
    "    return_dict=False,\n",
    ")"
   ]
  },
  {
   "cell_type": "code",
   "execution_count": null,
   "metadata": {},
   "outputs": [],
   "source": [
    "VERSION_NAME = \"okers\"\n",
    "FILENAME = VERSION_NAME + '.h5'\n",
    "final_model.save(FILENAME)"
   ]
  },
  {
   "cell_type": "code",
   "execution_count": null,
   "metadata": {},
   "outputs": [],
   "source": [
    "outbound_regions = []\n",
    "for x in range(cells_width):\n",
    "    for y in range(cells_height):\n",
    "        outbound_regions.append(\n",
    "            {\n",
    "                \"regionId\": \"\",\n",
    "                \"predictor\": \"\",\n",
    "                \"center\": {\n",
    "                    \"latitude\": region_centers[x][y][0],\n",
    "                    \"longitude\": region_centers[x][y][1]\n",
    "                },\n",
    "                \"normalizedCenter\": {\n",
    "                    \"latitude\": normalized_region_centers[x][y][0],\n",
    "                    \"longitude\": normalized_region_centers[x][y][1]\n",
    "                },\n",
    "                \"risk\": -1,\n",
    "                \"bounds\": {\n",
    "                    \"coordinates\": [\n",
    "                        [\n",
    "                            cells[x][y].south_west.latitude,\n",
    "                            cells[x][y].south_west.longitude\n",
    "                        ],\n",
    "                        [\n",
    "                            cells[x][y].south_east.latitude,\n",
    "                            cells[x][y].south_east.longitude\n",
    "                        ],\n",
    "                        [\n",
    "                            cells[x][y].north_east.latitude,\n",
    "                            cells[x][y].north_east.longitude\n",
    "                        ],\n",
    "                        [\n",
    "                            cells[x][y].north_west.latitude,\n",
    "                            cells[x][y].north_west.longitude\n",
    "                        ],\n",
    "                    ],\n",
    "                    \"type\": \"Polygon\"\n",
    "                }\n",
    "            }\n",
    "        )"
   ]
  },
  {
   "cell_type": "code",
   "execution_count": null,
   "metadata": {},
   "outputs": [],
   "source": [
    "import requests\n",
    "import json\n",
    "with open(FILENAME, 'rb') as f:\n",
    "    requests.post(\n",
    "        url='http://localhost:8080/prediction/model/persist',\n",
    "        data={\"bounds\": json.dumps(outbound_regions)},\n",
    "        files=dict(predictiveModel = f)\n",
    "    )"
   ]
  },
  {
   "cell_type": "code",
   "execution_count": null,
   "metadata": {},
   "outputs": [],
   "source": [
    "X = dataset_size - 9218\n",
    "result: tf.Tensor = final_model([\n",
    "    np.reshape(first_input_features[X], (1, 7, 4)),\n",
    "    np.reshape(second_input_features[X], (1, 2))\n",
    "])\n",
    "print(result)\n",
    "print(outputs[X])"
   ]
  }
 ],
 "metadata": {
  "kernelspec": {
   "display_name": "Python 3.7.12 ('tf-downgrade')",
   "language": "python",
   "name": "python3"
  },
  "language_info": {
   "codemirror_mode": {
    "name": "ipython",
    "version": 3
   },
   "file_extension": ".py",
   "mimetype": "text/x-python",
   "name": "python",
   "nbconvert_exporter": "python",
   "pygments_lexer": "ipython3",
   "version": "3.7.12"
  },
  "orig_nbformat": 4,
  "vscode": {
   "interpreter": {
    "hash": "c317347876957d0732c2360af00ee06efb91188ffda278c05bb97c75a0b68f32"
   }
  }
 },
 "nbformat": 4,
 "nbformat_minor": 2
}
