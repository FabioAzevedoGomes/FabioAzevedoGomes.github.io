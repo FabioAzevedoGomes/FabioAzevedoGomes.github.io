{
 "cells": [
  {
   "cell_type": "code",
   "execution_count": null,
   "metadata": {},
   "outputs": [],
   "source": [
    "import requests\n",
    "import matplotlib.pyplot as plt\n",
    "\n",
    "region_list = requests.get('http://localhost:8080/prediction/model/predict/today').json()\n",
    "lat_for_plot = []\n",
    "lon_for_plot = []\n",
    "risk_for_plot = []\n",
    "for region in region_list:\n",
    "    lat_for_plot.append(region['center']['latitude'])\n",
    "    lon_for_plot.append(region['center']['longitude'])\n",
    "    risk_for_plot.append(region['risk'])\n",
    "\n",
    "plt.scatter(lat_for_plot,lon_for_plot, s = 200, c=risk_for_plot, cmap='gray')\n"
   ]
  }
 ],
 "metadata": {
  "kernelspec": {
   "display_name": "Python 3.7.12 ('tf-downgrade')",
   "language": "python",
   "name": "python3"
  },
  "language_info": {
   "codemirror_mode": {
    "name": "ipython",
    "version": 3
   },
   "file_extension": ".py",
   "mimetype": "text/x-python",
   "name": "python",
   "nbconvert_exporter": "python",
   "pygments_lexer": "ipython3",
   "version": "3.7.12"
  },
  "orig_nbformat": 4,
  "vscode": {
   "interpreter": {
    "hash": "c317347876957d0732c2360af00ee06efb91188ffda278c05bb97c75a0b68f32"
   }
  }
 },
 "nbformat": 4,
 "nbformat_minor": 2
}
