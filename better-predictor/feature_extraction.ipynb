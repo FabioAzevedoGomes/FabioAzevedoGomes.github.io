{
 "cells": [
  {
   "cell_type": "code",
   "execution_count": null,
   "metadata": {},
   "outputs": [],
   "source": [
    "import csv\n",
    "accident_data = []\n",
    "with open('raw_data/accidents_clean.csv') as csv_file:\n",
    "    csv_reader = csv.reader(csv_file, delimiter=';')\n",
    "    line_count = 0\n",
    "    for row in csv_reader:\n",
    "        accident_data.append(row)\n",
    "        if line_count == 0:\n",
    "            line_count += 1\n",
    "        else:\n",
    "            line_count += 1\n",
    "len(accident_data)"
   ]
  },
  {
   "cell_type": "code",
   "execution_count": null,
   "metadata": {},
   "outputs": [],
   "source": [
    "import csv\n",
    "climate_data = []\n",
    "with open('raw_data/climate_clean.csv') as csv_file:\n",
    "    csv_reader = csv.reader(csv_file, delimiter=';')\n",
    "    line_count = 0\n",
    "    for row in csv_reader:\n",
    "        climate_data.append(row)\n",
    "        if line_count == 0:\n",
    "            line_count += 1\n",
    "        else:\n",
    "            line_count += 1\n",
    "len(climate_data)"
   ]
  },
  {
   "cell_type": "code",
   "execution_count": null,
   "metadata": {},
   "outputs": [],
   "source": [
    "merged_data = {}\n",
    "process_accidents = []\n",
    "for climate_row in climate_data:\n",
    "    for accident_row in accident_data:\n",
    "        if accident_row[1] == climate_row[3] and accident_row[3] >= climate_row[5]:\n",
    "            merged_data[accident_row[0]] = accident_row + climate_row"
   ]
  },
  {
   "cell_type": "code",
   "execution_count": 6,
   "metadata": {},
   "outputs": [],
   "source": [
    "merged_csv_data = []\n",
    "for row in merged_data.values():\n",
    "    merged_csv_data.append(row)"
   ]
  },
  {
   "cell_type": "code",
   "execution_count": null,
   "metadata": {},
   "outputs": [],
   "source": [
    "import csv\n",
    "with open('raw_data/merged.csv', 'w', newline='') as csvfile:\n",
    "    csv_writer = csv.writer(csvfile, delimiter=';')\n",
    "    for row in merged_csv_data:\n",
    "        csv_writer.writerow(row)"
   ]
  }
 ],
 "metadata": {
  "kernelspec": {
   "display_name": "Python 3.7.12 ('tf-downgrade')",
   "language": "python",
   "name": "python3"
  },
  "language_info": {
   "codemirror_mode": {
    "name": "ipython",
    "version": 3
   },
   "file_extension": ".py",
   "mimetype": "text/x-python",
   "name": "python",
   "nbconvert_exporter": "python",
   "pygments_lexer": "ipython3",
   "version": "3.7.12"
  },
  "orig_nbformat": 4,
  "vscode": {
   "interpreter": {
    "hash": "c317347876957d0732c2360af00ee06efb91188ffda278c05bb97c75a0b68f32"
   }
  }
 },
 "nbformat": 4,
 "nbformat_minor": 2
}
